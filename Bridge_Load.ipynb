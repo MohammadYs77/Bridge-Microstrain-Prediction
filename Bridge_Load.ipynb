{
 "cells": [
  {
   "cell_type": "code",
   "execution_count": 1,
   "metadata": {},
   "outputs": [],
   "source": [
    "import pandas as pd\n",
    "import numpy as np\n",
    "from PIL import Image\n",
    "import cv2 as cv\n",
    "import os\n",
    "\n",
    "import torch\n",
    "import torch.nn as nn\n",
    "import torch.nn.functional as F\n",
    "from torchvision import models, transforms\n",
    "from torch.utils.data import Dataset, DataLoader"
   ]
  },
  {
   "cell_type": "code",
   "execution_count": 2,
   "metadata": {},
   "outputs": [],
   "source": [
    "base_path = 'D:/AI Courses/Semester 3/Hardware Technologies for AI/Project/Operational Data/'\n",
    "data_path = '/Small Data Set/Small set data/'\n",
    "imgs_path = '/Small Data Set/Small set images/'\n",
    "headers_path = './Data Column Headings.csv'"
   ]
  },
  {
   "cell_type": "code",
   "execution_count": 3,
   "metadata": {},
   "outputs": [],
   "source": [
    "headers = pd.read_csv(headers_path)\n",
    "imgs = os.listdir(base_path + imgs_path)\n",
    "csv_dirs = [base_path + imgs_path + each[:-4] + '.csv' for each in imgs]\n",
    "imgs = [base_path + imgs_path + each for each in imgs]\n",
    "\n",
    "df_dict = {'Images': imgs, 'Data': csv_dirs}\n",
    "df = pd.DataFrame(df_dict)\n",
    "# df.columns = headers.columns"
   ]
  },
  {
   "cell_type": "code",
   "execution_count": 4,
   "metadata": {},
   "outputs": [
    {
     "data": {
      "text/html": [
       "<div>\n",
       "<style scoped>\n",
       "    .dataframe tbody tr th:only-of-type {\n",
       "        vertical-align: middle;\n",
       "    }\n",
       "\n",
       "    .dataframe tbody tr th {\n",
       "        vertical-align: top;\n",
       "    }\n",
       "\n",
       "    .dataframe thead th {\n",
       "        text-align: right;\n",
       "    }\n",
       "</style>\n",
       "<table border=\"1\" class=\"dataframe\">\n",
       "  <thead>\n",
       "    <tr style=\"text-align: right;\">\n",
       "      <th></th>\n",
       "      <th>Images</th>\n",
       "      <th>Data</th>\n",
       "    </tr>\n",
       "  </thead>\n",
       "  <tbody>\n",
       "    <tr>\n",
       "      <th>0</th>\n",
       "      <td>D:/AI Courses/Semester 3/Hardware Technologies...</td>\n",
       "      <td>D:/AI Courses/Semester 3/Hardware Technologies...</td>\n",
       "    </tr>\n",
       "    <tr>\n",
       "      <th>1</th>\n",
       "      <td>D:/AI Courses/Semester 3/Hardware Technologies...</td>\n",
       "      <td>D:/AI Courses/Semester 3/Hardware Technologies...</td>\n",
       "    </tr>\n",
       "    <tr>\n",
       "      <th>2</th>\n",
       "      <td>D:/AI Courses/Semester 3/Hardware Technologies...</td>\n",
       "      <td>D:/AI Courses/Semester 3/Hardware Technologies...</td>\n",
       "    </tr>\n",
       "    <tr>\n",
       "      <th>3</th>\n",
       "      <td>D:/AI Courses/Semester 3/Hardware Technologies...</td>\n",
       "      <td>D:/AI Courses/Semester 3/Hardware Technologies...</td>\n",
       "    </tr>\n",
       "    <tr>\n",
       "      <th>4</th>\n",
       "      <td>D:/AI Courses/Semester 3/Hardware Technologies...</td>\n",
       "      <td>D:/AI Courses/Semester 3/Hardware Technologies...</td>\n",
       "    </tr>\n",
       "    <tr>\n",
       "      <th>...</th>\n",
       "      <td>...</td>\n",
       "      <td>...</td>\n",
       "    </tr>\n",
       "    <tr>\n",
       "      <th>95</th>\n",
       "      <td>D:/AI Courses/Semester 3/Hardware Technologies...</td>\n",
       "      <td>D:/AI Courses/Semester 3/Hardware Technologies...</td>\n",
       "    </tr>\n",
       "    <tr>\n",
       "      <th>96</th>\n",
       "      <td>D:/AI Courses/Semester 3/Hardware Technologies...</td>\n",
       "      <td>D:/AI Courses/Semester 3/Hardware Technologies...</td>\n",
       "    </tr>\n",
       "    <tr>\n",
       "      <th>97</th>\n",
       "      <td>D:/AI Courses/Semester 3/Hardware Technologies...</td>\n",
       "      <td>D:/AI Courses/Semester 3/Hardware Technologies...</td>\n",
       "    </tr>\n",
       "    <tr>\n",
       "      <th>98</th>\n",
       "      <td>D:/AI Courses/Semester 3/Hardware Technologies...</td>\n",
       "      <td>D:/AI Courses/Semester 3/Hardware Technologies...</td>\n",
       "    </tr>\n",
       "    <tr>\n",
       "      <th>99</th>\n",
       "      <td>D:/AI Courses/Semester 3/Hardware Technologies...</td>\n",
       "      <td>D:/AI Courses/Semester 3/Hardware Technologies...</td>\n",
       "    </tr>\n",
       "  </tbody>\n",
       "</table>\n",
       "<p>100 rows × 2 columns</p>\n",
       "</div>"
      ],
      "text/plain": [
       "                                               Images  \\\n",
       "0   D:/AI Courses/Semester 3/Hardware Technologies...   \n",
       "1   D:/AI Courses/Semester 3/Hardware Technologies...   \n",
       "2   D:/AI Courses/Semester 3/Hardware Technologies...   \n",
       "3   D:/AI Courses/Semester 3/Hardware Technologies...   \n",
       "4   D:/AI Courses/Semester 3/Hardware Technologies...   \n",
       "..                                                ...   \n",
       "95  D:/AI Courses/Semester 3/Hardware Technologies...   \n",
       "96  D:/AI Courses/Semester 3/Hardware Technologies...   \n",
       "97  D:/AI Courses/Semester 3/Hardware Technologies...   \n",
       "98  D:/AI Courses/Semester 3/Hardware Technologies...   \n",
       "99  D:/AI Courses/Semester 3/Hardware Technologies...   \n",
       "\n",
       "                                                 Data  \n",
       "0   D:/AI Courses/Semester 3/Hardware Technologies...  \n",
       "1   D:/AI Courses/Semester 3/Hardware Technologies...  \n",
       "2   D:/AI Courses/Semester 3/Hardware Technologies...  \n",
       "3   D:/AI Courses/Semester 3/Hardware Technologies...  \n",
       "4   D:/AI Courses/Semester 3/Hardware Technologies...  \n",
       "..                                                ...  \n",
       "95  D:/AI Courses/Semester 3/Hardware Technologies...  \n",
       "96  D:/AI Courses/Semester 3/Hardware Technologies...  \n",
       "97  D:/AI Courses/Semester 3/Hardware Technologies...  \n",
       "98  D:/AI Courses/Semester 3/Hardware Technologies...  \n",
       "99  D:/AI Courses/Semester 3/Hardware Technologies...  \n",
       "\n",
       "[100 rows x 2 columns]"
      ]
     },
     "execution_count": 4,
     "metadata": {},
     "output_type": "execute_result"
    }
   ],
   "source": [
    "df"
   ]
  },
  {
   "cell_type": "code",
   "execution_count": 5,
   "metadata": {},
   "outputs": [],
   "source": [
    "device = torch.device('cuda' if torch.cuda.is_available() else 'cpu')\n",
    "\n",
    "RESIZE = 448\n",
    "BATCH_SIZE = 16"
   ]
  },
  {
   "cell_type": "code",
   "execution_count": 37,
   "metadata": {},
   "outputs": [],
   "source": [
    "normalize = transforms.Normalize(mean=[0.485, 0.456, 0.406], std=[0.229, 0.224, 0.225])\n",
    "\n",
    "data_transforms = {\n",
    "    'train':\n",
    "    transforms.Compose([\n",
    "        transforms.Resize((RESIZE, RESIZE)),\n",
    "        transforms.GaussianBlur((19, 19)),\n",
    "        # transforms.RandomAffine(0, shear=10, scale=(0.9,1.1)),\n",
    "        transforms.RandomHorizontalFlip(),\n",
    "        # transforms.RandomRotation(10),\n",
    "        # transforms.ColorJitter(brightness=0.2, contrast=0.2, saturation=0.2, hue=0.2),\n",
    "        transforms.ToTensor(),\n",
    "        normalize\n",
    "    ]),\n",
    "    'other':\n",
    "    transforms.Compose([\n",
    "        transforms.Resize((RESIZE, RESIZE)),\n",
    "        transforms.GaussianBlur((19, 19)),\n",
    "        transforms.ToTensor(),\n",
    "        normalize\n",
    "    ]),\n",
    "    'rcnn':\n",
    "    transforms.Compose([\n",
    "        transforms.Resize((RESIZE, RESIZE)),\n",
    "        # transforms.GaussianBlur((19, 19)),\n",
    "        transforms.ToTensor(),\n",
    "        # normalize\n",
    "    ]),\n",
    "    'rcnn_v':\n",
    "    transforms.Compose([\n",
    "        transforms.Resize((RESIZE, RESIZE)),\n",
    "        # transforms.ToTensor(),\n",
    "        # normalize\n",
    "    ])\n",
    "}"
   ]
  },
  {
   "cell_type": "code",
   "execution_count": 7,
   "metadata": {},
   "outputs": [],
   "source": [
    "class TruckDataset(Dataset):\n",
    "    def __init__(self,\n",
    "                df,\n",
    "                transform=None,\n",
    "                shuffle_data=True):\n",
    "\n",
    "        self.df = df\n",
    "        self.transform = transform\n",
    "\n",
    "        if shuffle_data:\n",
    "            self.df = self.df.sample(frac=1).reset_index(drop=True)\n",
    "\n",
    "\n",
    "\n",
    "    def __len__(self) -> int:\n",
    "        return len(self.df)\n",
    "\n",
    "    def __getitem__(self, idx) -> tuple:\n",
    "        image = Image.open(self.df.iloc[idx, 0] + '.jpg').convert(\"RGB\")\n",
    "        # question = self.df.iloc[idx, 2]\n",
    "        label = self.df.iloc[idx, 1]\n",
    "\n",
    "        if self.img_transform:\n",
    "            image = self.img_transform(image)\n",
    "\n",
    "\n",
    "        return image, label"
   ]
  },
  {
   "cell_type": "code",
   "execution_count": 8,
   "metadata": {},
   "outputs": [],
   "source": [
    "COCO_INSTANCE_CATEGORY_NAMES = [\n",
    "    '__background__', 'person', 'bicycle', 'car', 'motorcycle', 'airplane', 'bus',\n",
    "    'train', 'truck', 'boat', 'traffic light', 'fire hydrant', 'N/A', 'stop sign',\n",
    "    'parking meter', 'bench', 'bird', 'cat', 'dog', 'horse', 'sheep', 'cow',\n",
    "    'elephant', 'bear', 'zebra', 'giraffe', 'N/A', 'backpack', 'umbrella', 'N/A', 'N/A',\n",
    "    'handbag', 'tie', 'suitcase', 'frisbee', 'skis', 'snowboard', 'sports ball',\n",
    "    'kite', 'baseball bat', 'baseball glove', 'skateboard', 'surfboard', 'tennis racket',\n",
    "    'bottle', 'N/A', 'wine glass', 'cup', 'fork', 'knife', 'spoon', 'bowl',\n",
    "    'banana', 'apple', 'sandwich', 'orange', 'broccoli', 'carrot', 'hot dog', 'pizza',\n",
    "    'donut', 'cake', 'chair', 'couch', 'potted plant', 'bed', 'N/A', 'dining table',\n",
    "    'N/A', 'N/A', 'toilet', 'N/A', 'tv', 'laptop', 'mouse', 'remote', 'keyboard', 'cell phone',\n",
    "    'microwave', 'oven', 'toaster', 'sink', 'refrigerator', 'N/A', 'book',\n",
    "    'clock', 'vase', 'scissors', 'teddy bear', 'hair drier', 'toothbrush']"
   ]
  },
  {
   "cell_type": "code",
   "execution_count": 66,
   "metadata": {},
   "outputs": [],
   "source": [
    "def extract_trucks(model, img):\n",
    "\n",
    "    model.eval()\n",
    "    img_rcnn = data_transforms['rcnn'](img)\n",
    "    img_v = np.array(data_transforms['rcnn_v'](img))\n",
    "    c, w, h = img_rcnn.shape\n",
    "\n",
    "    res = model(img_rcnn.reshape((1, c, w, h)))\n",
    "    bboxes, lbls = res[0]['boxes'].detach(), res[0]['labels']\n",
    "    bboxes = [np.array(each, dtype=int) for each in bboxes]\n",
    "    bboxes = np.array(bboxes)\n",
    "\n",
    "    trucks_bboxs = []\n",
    "\n",
    "    for i, each_lbl in enumerate(lbls):\n",
    "        if each_lbl == 8:\n",
    "            trucks_bboxs.append(bboxes[i])\n",
    "\n",
    "    max_wh = 0\n",
    "    max_wh_id = 0\n",
    "    \n",
    "    for i, (x, y, a, b) in enumerate(trucks_bboxs):\n",
    "        w = a - x\n",
    "        h = b - y\n",
    "        \n",
    "        if w + h > max_wh:\n",
    "            max_wh = w + h\n",
    "            max_wh_id = i\n",
    "    \n",
    "    truck = trucks_bboxs[max_wh_id]\n",
    "\n",
    "    img_crop = img_v[truck[1]: truck[3], truck[0]: truck[2]]\n",
    "    img_crop = data_transforms['rcnn'](Image.fromarray(img_crop))\n",
    "\n",
    "    return img_crop"
   ]
  },
  {
   "cell_type": "code",
   "execution_count": 50,
   "metadata": {},
   "outputs": [],
   "source": [
    "exmple_img_path = df.iloc[74][0]"
   ]
  },
  {
   "cell_type": "code",
   "execution_count": 51,
   "metadata": {},
   "outputs": [
    {
     "data": {
      "text/plain": [
       "'D:/AI Courses/Semester 3/Hardware Technologies for AI/Project/Operational Data//Small Data Set/Small set images/00076.jpg'"
      ]
     },
     "execution_count": 51,
     "metadata": {},
     "output_type": "execute_result"
    }
   ],
   "source": [
    "exmple_img_path"
   ]
  },
  {
   "cell_type": "code",
   "execution_count": 52,
   "metadata": {},
   "outputs": [],
   "source": [
    "rcnn = models.detection.fasterrcnn_resnet50_fpn_v2(weights='DEFAULT')\n",
    "rcnn.eval()\n",
    "\n",
    "image = Image.open(exmple_img_path).convert('RGB')"
   ]
  },
  {
   "cell_type": "code",
   "execution_count": 53,
   "metadata": {},
   "outputs": [
    {
     "data": {
      "text/plain": [
       "(1280, 720)"
      ]
     },
     "execution_count": 53,
     "metadata": {},
     "output_type": "execute_result"
    }
   ],
   "source": [
    "image.size"
   ]
  },
  {
   "cell_type": "code",
   "execution_count": 68,
   "metadata": {},
   "outputs": [
    {
     "data": {
      "text/plain": [
       "torch.Size([3, 448, 448])"
      ]
     },
     "execution_count": 68,
     "metadata": {},
     "output_type": "execute_result"
    }
   ],
   "source": [
    "\n",
    "extract_trucks(rcnn, image).shape\n",
    "# cv.imshow('image', extract_trucks(rcnn, image))\n",
    "# cv.waitKey(0)\n",
    "# cv.destroyAllWindows()"
   ]
  },
  {
   "cell_type": "code",
   "execution_count": 55,
   "metadata": {},
   "outputs": [],
   "source": [
    "img_transformed = data_transforms['rcnn'](image)"
   ]
  },
  {
   "cell_type": "code",
   "execution_count": 56,
   "metadata": {},
   "outputs": [
    {
     "data": {
      "text/plain": [
       "torch.Size([3, 448, 448])"
      ]
     },
     "execution_count": 56,
     "metadata": {},
     "output_type": "execute_result"
    }
   ],
   "source": [
    "img_transformed.shape"
   ]
  },
  {
   "cell_type": "code",
   "execution_count": 57,
   "metadata": {},
   "outputs": [],
   "source": [
    "c, w, h = img_transformed.shape\n",
    "\n",
    "res = rcnn(img_transformed.reshape((1, c, w, h)))"
   ]
  },
  {
   "cell_type": "code",
   "execution_count": 58,
   "metadata": {},
   "outputs": [
    {
     "data": {
      "text/plain": [
       "{'boxes': tensor([[ 68.3726, 109.4790, 206.3091, 341.5249],\n",
       "         [ 67.9908, 118.7250, 205.1931, 339.4185],\n",
       "         [ 20.9869,  87.1199,  25.3355,  92.7446],\n",
       "         [ 70.5592, 119.6393, 207.2134, 336.5806],\n",
       "         [ 97.7444, 227.7149, 106.9533, 251.3170]], grad_fn=<StackBackward0>),\n",
       " 'labels': tensor([8, 6, 3, 7, 1]),\n",
       " 'scores': tensor([0.9021, 0.6898, 0.5592, 0.2229, 0.1705], grad_fn=<IndexBackward0>)}"
      ]
     },
     "execution_count": 58,
     "metadata": {},
     "output_type": "execute_result"
    }
   ],
   "source": [
    "res[0]"
   ]
  },
  {
   "cell_type": "code",
   "execution_count": 59,
   "metadata": {},
   "outputs": [],
   "source": [
    "bboxes = res[0]['boxes'].detach()"
   ]
  },
  {
   "cell_type": "code",
   "execution_count": 60,
   "metadata": {},
   "outputs": [],
   "source": [
    "# bboxes"
   ]
  },
  {
   "cell_type": "code",
   "execution_count": 61,
   "metadata": {},
   "outputs": [],
   "source": [
    "# exmpl_bbox = np.array(bboxes[0], dtype=int)"
   ]
  },
  {
   "cell_type": "code",
   "execution_count": 62,
   "metadata": {},
   "outputs": [],
   "source": [
    "bboxes = [np.array(each, dtype=int) for each in bboxes]\n",
    "bboxes = np.array(bboxes)"
   ]
  },
  {
   "cell_type": "code",
   "execution_count": 63,
   "metadata": {},
   "outputs": [
    {
     "data": {
      "text/plain": [
       "array([[ 68, 109, 206, 341],\n",
       "       [ 67, 118, 205, 339],\n",
       "       [ 20,  87,  25,  92],\n",
       "       [ 70, 119, 207, 336],\n",
       "       [ 97, 227, 106, 251]])"
      ]
     },
     "execution_count": 63,
     "metadata": {},
     "output_type": "execute_result"
    }
   ],
   "source": [
    "bboxes"
   ]
  },
  {
   "cell_type": "code",
   "execution_count": 64,
   "metadata": {},
   "outputs": [
    {
     "data": {
      "text/plain": [
       "tensor([8, 6, 3, 7, 1])"
      ]
     },
     "execution_count": 64,
     "metadata": {},
     "output_type": "execute_result"
    }
   ],
   "source": [
    "res[0]['labels']"
   ]
  },
  {
   "cell_type": "code",
   "execution_count": 65,
   "metadata": {},
   "outputs": [
    {
     "name": "stdout",
     "output_type": "stream",
     "text": [
      "138 232\n",
      "137 217\n"
     ]
    }
   ],
   "source": [
    "img_raw = np.array(data_transforms['rcnn_v'](image))\n",
    "\n",
    "# for each_bbox in bboxes:\n",
    "#     cv.rectangle(img_raw, (each_bbox[0], each_bbox[1]), (each_bbox[2], each_bbox[3]), (0, 255, 0))\n",
    "num = [0, 3]\n",
    "\n",
    "for id in num:\n",
    "    cv.rectangle(img_raw, (bboxes[id][0], bboxes[id][1]), (bboxes[id][2], bboxes[id][3]), (0, 255, 0), 2)\n",
    "    # img_raw_crop = img_raw[bboxes[id][1]: bboxes[id][3], bboxes[id][0]: bboxes[id][2]]\n",
    "    print(bboxes[id][2] - bboxes[id][0], bboxes[id][3] - bboxes[id][1])\n",
    "    cv.imshow('image', img_raw)\n",
    "    cv.waitKey(0)\n",
    "    cv.destroyAllWindows()"
   ]
  },
  {
   "cell_type": "code",
   "execution_count": null,
   "metadata": {},
   "outputs": [],
   "source": []
  }
 ],
 "metadata": {
  "kernelspec": {
   "display_name": "Python 3",
   "language": "python",
   "name": "python3"
  },
  "language_info": {
   "codemirror_mode": {
    "name": "ipython",
    "version": 3
   },
   "file_extension": ".py",
   "mimetype": "text/x-python",
   "name": "python",
   "nbconvert_exporter": "python",
   "pygments_lexer": "ipython3",
   "version": "3.9.12"
  }
 },
 "nbformat": 4,
 "nbformat_minor": 2
}
