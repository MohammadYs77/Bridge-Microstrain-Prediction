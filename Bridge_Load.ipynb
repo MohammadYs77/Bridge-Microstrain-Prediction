{
 "cells": [
  {
   "cell_type": "code",
   "execution_count": 1,
   "metadata": {},
   "outputs": [],
   "source": [
    "import pandas as pd\n",
    "import numpy as np\n",
    "from PIL import Image\n",
    "import cv2 as cv\n",
    "import os\n",
    "from time import sleep\n",
    "from tqdm.auto import tqdm\n",
    "\n",
    "from sklearn.metrics import f1_score, accuracy_score\n",
    "from collections import OrderedDict\n",
    "import matplotlib.pyplot as plt\n",
    "import torch\n",
    "import torch.nn as nn\n",
    "import torch.nn.functional as F\n",
    "from torchvision import models, transforms\n",
    "from torch.utils.data import Dataset, DataLoader, SubsetRandomSampler"
   ]
  },
  {
   "cell_type": "code",
   "execution_count": 2,
   "metadata": {},
   "outputs": [],
   "source": [
    "# base_path = 'D:/AI Courses/Semester 3/Hardware Technologies for AI/Project/Operational Data/'\n",
    "# data_path = '/Small Data Set/Small set data/'\n",
    "# imgs_path = '/Small Data Set/Small set images/'\n",
    "headers_path = './Data Column Headings.csv'\n",
    "# labels_path = 'Small Data Set Labels-1.xlsx'\n",
    "df_path = 'Small Data Set.csv'"
   ]
  },
  {
   "cell_type": "code",
   "execution_count": 3,
   "metadata": {},
   "outputs": [],
   "source": [
    "headers = pd.read_csv(headers_path)\n",
    "df = pd.read_csv(df_path)"
   ]
  },
  {
   "cell_type": "code",
   "execution_count": 4,
   "metadata": {},
   "outputs": [
    {
     "data": {
      "text/html": [
       "<div>\n",
       "<style scoped>\n",
       "    .dataframe tbody tr th:only-of-type {\n",
       "        vertical-align: middle;\n",
       "    }\n",
       "\n",
       "    .dataframe tbody tr th {\n",
       "        vertical-align: top;\n",
       "    }\n",
       "\n",
       "    .dataframe thead th {\n",
       "        text-align: right;\n",
       "    }\n",
       "</style>\n",
       "<table border=\"1\" class=\"dataframe\">\n",
       "  <thead>\n",
       "    <tr style=\"text-align: right;\">\n",
       "      <th></th>\n",
       "      <th>Images</th>\n",
       "      <th>Data</th>\n",
       "      <th>Labels</th>\n",
       "    </tr>\n",
       "  </thead>\n",
       "  <tbody>\n",
       "    <tr>\n",
       "      <th>0</th>\n",
       "      <td>D:/AI Courses/Semester 3/Hardware Technologies...</td>\n",
       "      <td>D:/AI Courses/Semester 3/Hardware Technologies...</td>\n",
       "      <td>7</td>\n",
       "    </tr>\n",
       "    <tr>\n",
       "      <th>1</th>\n",
       "      <td>D:/AI Courses/Semester 3/Hardware Technologies...</td>\n",
       "      <td>D:/AI Courses/Semester 3/Hardware Technologies...</td>\n",
       "      <td>6</td>\n",
       "    </tr>\n",
       "    <tr>\n",
       "      <th>2</th>\n",
       "      <td>D:/AI Courses/Semester 3/Hardware Technologies...</td>\n",
       "      <td>D:/AI Courses/Semester 3/Hardware Technologies...</td>\n",
       "      <td>7</td>\n",
       "    </tr>\n",
       "    <tr>\n",
       "      <th>3</th>\n",
       "      <td>D:/AI Courses/Semester 3/Hardware Technologies...</td>\n",
       "      <td>D:/AI Courses/Semester 3/Hardware Technologies...</td>\n",
       "      <td>7</td>\n",
       "    </tr>\n",
       "    <tr>\n",
       "      <th>4</th>\n",
       "      <td>D:/AI Courses/Semester 3/Hardware Technologies...</td>\n",
       "      <td>D:/AI Courses/Semester 3/Hardware Technologies...</td>\n",
       "      <td>3</td>\n",
       "    </tr>\n",
       "    <tr>\n",
       "      <th>...</th>\n",
       "      <td>...</td>\n",
       "      <td>...</td>\n",
       "      <td>...</td>\n",
       "    </tr>\n",
       "    <tr>\n",
       "      <th>93</th>\n",
       "      <td>D:/AI Courses/Semester 3/Hardware Technologies...</td>\n",
       "      <td>D:/AI Courses/Semester 3/Hardware Technologies...</td>\n",
       "      <td>5</td>\n",
       "    </tr>\n",
       "    <tr>\n",
       "      <th>94</th>\n",
       "      <td>D:/AI Courses/Semester 3/Hardware Technologies...</td>\n",
       "      <td>D:/AI Courses/Semester 3/Hardware Technologies...</td>\n",
       "      <td>6</td>\n",
       "    </tr>\n",
       "    <tr>\n",
       "      <th>95</th>\n",
       "      <td>D:/AI Courses/Semester 3/Hardware Technologies...</td>\n",
       "      <td>D:/AI Courses/Semester 3/Hardware Technologies...</td>\n",
       "      <td>6</td>\n",
       "    </tr>\n",
       "    <tr>\n",
       "      <th>96</th>\n",
       "      <td>D:/AI Courses/Semester 3/Hardware Technologies...</td>\n",
       "      <td>D:/AI Courses/Semester 3/Hardware Technologies...</td>\n",
       "      <td>5</td>\n",
       "    </tr>\n",
       "    <tr>\n",
       "      <th>97</th>\n",
       "      <td>D:/AI Courses/Semester 3/Hardware Technologies...</td>\n",
       "      <td>D:/AI Courses/Semester 3/Hardware Technologies...</td>\n",
       "      <td>5</td>\n",
       "    </tr>\n",
       "  </tbody>\n",
       "</table>\n",
       "<p>98 rows × 3 columns</p>\n",
       "</div>"
      ],
      "text/plain": [
       "                                               Images  \\\n",
       "0   D:/AI Courses/Semester 3/Hardware Technologies...   \n",
       "1   D:/AI Courses/Semester 3/Hardware Technologies...   \n",
       "2   D:/AI Courses/Semester 3/Hardware Technologies...   \n",
       "3   D:/AI Courses/Semester 3/Hardware Technologies...   \n",
       "4   D:/AI Courses/Semester 3/Hardware Technologies...   \n",
       "..                                                ...   \n",
       "93  D:/AI Courses/Semester 3/Hardware Technologies...   \n",
       "94  D:/AI Courses/Semester 3/Hardware Technologies...   \n",
       "95  D:/AI Courses/Semester 3/Hardware Technologies...   \n",
       "96  D:/AI Courses/Semester 3/Hardware Technologies...   \n",
       "97  D:/AI Courses/Semester 3/Hardware Technologies...   \n",
       "\n",
       "                                                 Data  Labels  \n",
       "0   D:/AI Courses/Semester 3/Hardware Technologies...       7  \n",
       "1   D:/AI Courses/Semester 3/Hardware Technologies...       6  \n",
       "2   D:/AI Courses/Semester 3/Hardware Technologies...       7  \n",
       "3   D:/AI Courses/Semester 3/Hardware Technologies...       7  \n",
       "4   D:/AI Courses/Semester 3/Hardware Technologies...       3  \n",
       "..                                                ...     ...  \n",
       "93  D:/AI Courses/Semester 3/Hardware Technologies...       5  \n",
       "94  D:/AI Courses/Semester 3/Hardware Technologies...       6  \n",
       "95  D:/AI Courses/Semester 3/Hardware Technologies...       6  \n",
       "96  D:/AI Courses/Semester 3/Hardware Technologies...       5  \n",
       "97  D:/AI Courses/Semester 3/Hardware Technologies...       5  \n",
       "\n",
       "[98 rows x 3 columns]"
      ]
     },
     "execution_count": 4,
     "metadata": {},
     "output_type": "execute_result"
    }
   ],
   "source": [
    "df"
   ]
  },
  {
   "cell_type": "code",
   "execution_count": 5,
   "metadata": {},
   "outputs": [],
   "source": [
    "label_dist = dict(df['Labels'].value_counts())"
   ]
  },
  {
   "cell_type": "code",
   "execution_count": 6,
   "metadata": {},
   "outputs": [
    {
     "data": {
      "image/png": "[encoded data removed]",
      "text/plain": [
       "<Figure size 640x480 with 1 Axes>"
      ]
     },
     "metadata": {},
     "output_type": "display_data"
    }
   ],
   "source": [
    "plt.bar(list(label_dist.keys()), list(label_dist.values()))\n",
    "plt.xlabel(\"No. of Axis\") \n",
    "plt.ylabel(\"No. of Samples per Axis Class\") \n",
    "plt.title(\"Trucks' Number of Axis and Their Number of Samples\")\n",
    "plt.show()"
   ]
  },
  {
   "cell_type": "code",
   "execution_count": 7,
   "metadata": {},
   "outputs": [],
   "source": [
    "num_classes = np.unique(df['Labels']).shape[0]"
   ]
  },
  {
   "cell_type": "code",
   "execution_count": 8,
   "metadata": {},
   "outputs": [],
   "source": [
    "df['Labels'] = df['Labels'].apply(lambda x: x - 2)"
   ]
  },
  {
   "cell_type": "code",
   "execution_count": 9,
   "metadata": {},
   "outputs": [
    {
     "data": {
      "text/html": [
       "<div>\n",
       "<style scoped>\n",
       "    .dataframe tbody tr th:only-of-type {\n",
       "        vertical-align: middle;\n",
       "    }\n",
       "\n",
       "    .dataframe tbody tr th {\n",
       "        vertical-align: top;\n",
       "    }\n",
       "\n",
       "    .dataframe thead th {\n",
       "        text-align: right;\n",
       "    }\n",
       "</style>\n",
       "<table border=\"1\" class=\"dataframe\">\n",
       "  <thead>\n",
       "    <tr style=\"text-align: right;\">\n",
       "      <th></th>\n",
       "      <th>Images</th>\n",
       "      <th>Data</th>\n",
       "      <th>Labels</th>\n",
       "    </tr>\n",
       "  </thead>\n",
       "  <tbody>\n",
       "    <tr>\n",
       "      <th>0</th>\n",
       "      <td>D:/AI Courses/Semester 3/Hardware Technologies...</td>\n",
       "      <td>D:/AI Courses/Semester 3/Hardware Technologies...</td>\n",
       "      <td>5</td>\n",
       "    </tr>\n",
       "    <tr>\n",
       "      <th>1</th>\n",
       "      <td>D:/AI Courses/Semester 3/Hardware Technologies...</td>\n",
       "      <td>D:/AI Courses/Semester 3/Hardware Technologies...</td>\n",
       "      <td>4</td>\n",
       "    </tr>\n",
       "    <tr>\n",
       "      <th>2</th>\n",
       "      <td>D:/AI Courses/Semester 3/Hardware Technologies...</td>\n",
       "      <td>D:/AI Courses/Semester 3/Hardware Technologies...</td>\n",
       "      <td>5</td>\n",
       "    </tr>\n",
       "    <tr>\n",
       "      <th>3</th>\n",
       "      <td>D:/AI Courses/Semester 3/Hardware Technologies...</td>\n",
       "      <td>D:/AI Courses/Semester 3/Hardware Technologies...</td>\n",
       "      <td>5</td>\n",
       "    </tr>\n",
       "    <tr>\n",
       "      <th>4</th>\n",
       "      <td>D:/AI Courses/Semester 3/Hardware Technologies...</td>\n",
       "      <td>D:/AI Courses/Semester 3/Hardware Technologies...</td>\n",
       "      <td>1</td>\n",
       "    </tr>\n",
       "    <tr>\n",
       "      <th>...</th>\n",
       "      <td>...</td>\n",
       "      <td>...</td>\n",
       "      <td>...</td>\n",
       "    </tr>\n",
       "    <tr>\n",
       "      <th>93</th>\n",
       "      <td>D:/AI Courses/Semester 3/Hardware Technologies...</td>\n",
       "      <td>D:/AI Courses/Semester 3/Hardware Technologies...</td>\n",
       "      <td>3</td>\n",
       "    </tr>\n",
       "    <tr>\n",
       "      <th>94</th>\n",
       "      <td>D:/AI Courses/Semester 3/Hardware Technologies...</td>\n",
       "      <td>D:/AI Courses/Semester 3/Hardware Technologies...</td>\n",
       "      <td>4</td>\n",
       "    </tr>\n",
       "    <tr>\n",
       "      <th>95</th>\n",
       "      <td>D:/AI Courses/Semester 3/Hardware Technologies...</td>\n",
       "      <td>D:/AI Courses/Semester 3/Hardware Technologies...</td>\n",
       "      <td>4</td>\n",
       "    </tr>\n",
       "    <tr>\n",
       "      <th>96</th>\n",
       "      <td>D:/AI Courses/Semester 3/Hardware Technologies...</td>\n",
       "      <td>D:/AI Courses/Semester 3/Hardware Technologies...</td>\n",
       "      <td>3</td>\n",
       "    </tr>\n",
       "    <tr>\n",
       "      <th>97</th>\n",
       "      <td>D:/AI Courses/Semester 3/Hardware Technologies...</td>\n",
       "      <td>D:/AI Courses/Semester 3/Hardware Technologies...</td>\n",
       "      <td>3</td>\n",
       "    </tr>\n",
       "  </tbody>\n",
       "</table>\n",
       "<p>98 rows × 3 columns</p>\n",
       "</div>"
      ],
      "text/plain": [
       "                                               Images  \\\n",
       "0   D:/AI Courses/Semester 3/Hardware Technologies...   \n",
       "1   D:/AI Courses/Semester 3/Hardware Technologies...   \n",
       "2   D:/AI Courses/Semester 3/Hardware Technologies...   \n",
       "3   D:/AI Courses/Semester 3/Hardware Technologies...   \n",
       "4   D:/AI Courses/Semester 3/Hardware Technologies...   \n",
       "..                                                ...   \n",
       "93  D:/AI Courses/Semester 3/Hardware Technologies...   \n",
       "94  D:/AI Courses/Semester 3/Hardware Technologies...   \n",
       "95  D:/AI Courses/Semester 3/Hardware Technologies...   \n",
       "96  D:/AI Courses/Semester 3/Hardware Technologies...   \n",
       "97  D:/AI Courses/Semester 3/Hardware Technologies...   \n",
       "\n",
       "                                                 Data  Labels  \n",
       "0   D:/AI Courses/Semester 3/Hardware Technologies...       5  \n",
       "1   D:/AI Courses/Semester 3/Hardware Technologies...       4  \n",
       "2   D:/AI Courses/Semester 3/Hardware Technologies...       5  \n",
       "3   D:/AI Courses/Semester 3/Hardware Technologies...       5  \n",
       "4   D:/AI Courses/Semester 3/Hardware Technologies...       1  \n",
       "..                                                ...     ...  \n",
       "93  D:/AI Courses/Semester 3/Hardware Technologies...       3  \n",
       "94  D:/AI Courses/Semester 3/Hardware Technologies...       4  \n",
       "95  D:/AI Courses/Semester 3/Hardware Technologies...       4  \n",
       "96  D:/AI Courses/Semester 3/Hardware Technologies...       3  \n",
       "97  D:/AI Courses/Semester 3/Hardware Technologies...       3  \n",
       "\n",
       "[98 rows x 3 columns]"
      ]
     },
     "execution_count": 9,
     "metadata": {},
     "output_type": "execute_result"
    }
   ],
   "source": [
    "df"
   ]
  },
  {
   "cell_type": "code",
   "execution_count": 10,
   "metadata": {},
   "outputs": [
    {
     "data": {
      "text/plain": [
       "array([0, 1, 2, 3, 4, 5, 6, 7], dtype=int64)"
      ]
     },
     "execution_count": 10,
     "metadata": {},
     "output_type": "execute_result"
    }
   ],
   "source": [
    "np.unique(df['Labels'])"
   ]
  },
  {
   "cell_type": "code",
   "execution_count": 11,
   "metadata": {},
   "outputs": [],
   "source": [
    "rcnn = models.detection.fasterrcnn_resnet50_fpn_v2(weights='DEFAULT')\n",
    "rcnn.eval()\n",
    "\n",
    "device = torch.device('cuda' if torch.cuda.is_available() else 'cpu')\n",
    "\n",
    "RESIZE = 448\n",
    "BATCH_SIZE = 16\n",
    "SPLIT_PERCENT = 0.75\n",
    "\n",
    "COCO_INSTANCE_CATEGORY_NAMES = [\n",
    "    '__background__', 'person', 'bicycle', 'car', 'motorcycle', 'airplane', 'bus',\n",
    "    'train', 'truck', 'boat', 'traffic light', 'fire hydrant', 'N/A', 'stop sign',\n",
    "    'parking meter', 'bench', 'bird', 'cat', 'dog', 'horse', 'sheep', 'cow',\n",
    "    'elephant', 'bear', 'zebra', 'giraffe', 'N/A', 'backpack', 'umbrella', 'N/A', 'N/A',\n",
    "    'handbag', 'tie', 'suitcase', 'frisbee', 'skis', 'snowboard', 'sports ball',\n",
    "    'kite', 'baseball bat', 'baseball glove', 'skateboard', 'surfboard', 'tennis racket',\n",
    "    'bottle', 'N/A', 'wine glass', 'cup', 'fork', 'knife', 'spoon', 'bowl',\n",
    "    'banana', 'apple', 'sandwich', 'orange', 'broccoli', 'carrot', 'hot dog', 'pizza',\n",
    "    'donut', 'cake', 'chair', 'couch', 'potted plant', 'bed', 'N/A', 'dining table',\n",
    "    'N/A', 'N/A', 'toilet', 'N/A', 'tv', 'laptop', 'mouse', 'remote', 'keyboard', 'cell phone',\n",
    "    'microwave', 'oven', 'toaster', 'sink', 'refrigerator', 'N/A', 'book',\n",
    "    'clock', 'vase', 'scissors', 'teddy bear', 'hair drier', 'toothbrush']"
   ]
  },
  {
   "cell_type": "code",
   "execution_count": 12,
   "metadata": {},
   "outputs": [],
   "source": [
    "normalize = transforms.Normalize(mean=[0.485, 0.456, 0.406], std=[0.229, 0.224, 0.225])\n",
    "\n",
    "data_transforms = {\n",
    "    'train':\n",
    "    transforms.Compose([\n",
    "        transforms.Resize((RESIZE, RESIZE)),\n",
    "        # transforms.GaussianBlur((19, 19)),\n",
    "        # transforms.RandomAffine(0, shear=10, scale=(0.9,1.1)),\n",
    "        transforms.RandomHorizontalFlip(),\n",
    "        # transforms.RandomRotation(10),\n",
    "        # transforms.ColorJitter(brightness=0.2, contrast=0.2, saturation=0.2, hue=0.2),\n",
    "        transforms.ToTensor(),\n",
    "        normalize\n",
    "    ]),\n",
    "    'other':\n",
    "    transforms.Compose([\n",
    "        transforms.Resize((RESIZE, RESIZE)),\n",
    "        # transforms.GaussianBlur((19, 19)),\n",
    "        transforms.ToTensor(),\n",
    "        normalize\n",
    "    ]),\n",
    "    'rcnn':\n",
    "    transforms.Compose([\n",
    "        transforms.Resize((RESIZE, RESIZE)),\n",
    "        # transforms.GaussianBlur((19, 19)),\n",
    "        transforms.ToTensor(),\n",
    "        # normalize\n",
    "    ]),\n",
    "    'rcnn_v':\n",
    "    transforms.Compose([\n",
    "        transforms.Resize((RESIZE, RESIZE)),\n",
    "        # transforms.ToTensor(),\n",
    "        # normalize\n",
    "    ])\n",
    "}"
   ]
  },
  {
   "cell_type": "code",
   "execution_count": 13,
   "metadata": {},
   "outputs": [],
   "source": [
    "def extract_trucks(model, img, transform=None):\n",
    "\n",
    "    model.eval()\n",
    "    img_rcnn = data_transforms['rcnn'](img)\n",
    "    img_v = np.array(data_transforms['rcnn_v'](img))\n",
    "    c, w, h = img_rcnn.shape\n",
    "\n",
    "    res = model(img_rcnn.reshape((1, c, w, h)))\n",
    "    bboxes, lbls = res[0]['boxes'].detach(), res[0]['labels']\n",
    "    bboxes = [np.array(each, dtype=int) for each in bboxes]\n",
    "    bboxes = np.array(bboxes)\n",
    "\n",
    "    trucks_bboxs = []\n",
    "\n",
    "    for i, each_lbl in enumerate(lbls):\n",
    "        if each_lbl == 8:\n",
    "            trucks_bboxs.append(bboxes[i])\n",
    "\n",
    "    if len(trucks_bboxs) >= 0:\n",
    "        max_wh = 0\n",
    "        max_wh_id = 0\n",
    "    \n",
    "        for i, (x, y, a, b) in enumerate(trucks_bboxs):\n",
    "            w = a - x\n",
    "            h = b - y\n",
    "        \n",
    "            if w + h > max_wh:\n",
    "                max_wh = w + h\n",
    "                max_wh_id = i\n",
    "    \n",
    "    \n",
    "        truck = trucks_bboxs[max_wh_id]\n",
    "\n",
    "        img_crop = img_v[truck[1]: truck[3], truck[0]: truck[2]]\n",
    "    \n",
    "    else:\n",
    "        img_crop = img_v\n",
    "\n",
    "    if transform:\n",
    "        img_crop = transform(Image.fromarray(img_crop))\n",
    "\n",
    "    return img_crop"
   ]
  },
  {
   "cell_type": "code",
   "execution_count": 14,
   "metadata": {},
   "outputs": [],
   "source": [
    "# def extract_strains(data):\n",
    "    \n",
    "exmpl_strain_path = df.iloc[2][1]"
   ]
  },
  {
   "cell_type": "code",
   "execution_count": 15,
   "metadata": {},
   "outputs": [],
   "source": [
    "csv_file = pd.read_csv(exmpl_strain_path)\n",
    "csv_file.columns = headers.columns"
   ]
  },
  {
   "cell_type": "code",
   "execution_count": 16,
   "metadata": {},
   "outputs": [
    {
     "data": {
      "text/html": [
       "<div>\n",
       "<style scoped>\n",
       "    .dataframe tbody tr th:only-of-type {\n",
       "        vertical-align: middle;\n",
       "    }\n",
       "\n",
       "    .dataframe tbody tr th {\n",
       "        vertical-align: top;\n",
       "    }\n",
       "\n",
       "    .dataframe thead th {\n",
       "        text-align: right;\n",
       "    }\n",
       "</style>\n",
       "<table border=\"1\" class=\"dataframe\">\n",
       "  <thead>\n",
       "    <tr style=\"text-align: right;\">\n",
       "      <th></th>\n",
       "      <th>Date</th>\n",
       "      <th>Sample_Number</th>\n",
       "      <th>Sum of strains mid span</th>\n",
       "      <th>G19</th>\n",
       "      <th>G22</th>\n",
       "      <th>G25</th>\n",
       "      <th>G28</th>\n",
       "      <th>G7</th>\n",
       "      <th>G10</th>\n",
       "      <th>G13</th>\n",
       "      <th>...</th>\n",
       "      <th>G5</th>\n",
       "      <th>G2</th>\n",
       "      <th>G4</th>\n",
       "      <th>G6</th>\n",
       "      <th>G31</th>\n",
       "      <th>G32</th>\n",
       "      <th>TC1</th>\n",
       "      <th>TC2</th>\n",
       "      <th>TC3</th>\n",
       "      <th>TC4</th>\n",
       "    </tr>\n",
       "  </thead>\n",
       "  <tbody>\n",
       "    <tr>\n",
       "      <th>0</th>\n",
       "      <td>20170501.0</td>\n",
       "      <td>-999.0</td>\n",
       "      <td>-1.4</td>\n",
       "      <td>-0.1</td>\n",
       "      <td>0.3</td>\n",
       "      <td>-1.0</td>\n",
       "      <td>-0.7</td>\n",
       "      <td>0.1</td>\n",
       "      <td>0.3</td>\n",
       "      <td>0.8</td>\n",
       "      <td>...</td>\n",
       "      <td>-0.6</td>\n",
       "      <td>0.0</td>\n",
       "      <td>0.2</td>\n",
       "      <td>-0.5</td>\n",
       "      <td>-0.2</td>\n",
       "      <td>0.0</td>\n",
       "      <td>14.2</td>\n",
       "      <td>15.1</td>\n",
       "      <td>14.7</td>\n",
       "      <td>16.8</td>\n",
       "    </tr>\n",
       "    <tr>\n",
       "      <th>1</th>\n",
       "      <td>20170501.0</td>\n",
       "      <td>-998.0</td>\n",
       "      <td>-1.8</td>\n",
       "      <td>-0.2</td>\n",
       "      <td>0.0</td>\n",
       "      <td>-0.9</td>\n",
       "      <td>-0.8</td>\n",
       "      <td>0.1</td>\n",
       "      <td>0.2</td>\n",
       "      <td>0.4</td>\n",
       "      <td>...</td>\n",
       "      <td>-0.6</td>\n",
       "      <td>0.3</td>\n",
       "      <td>-0.1</td>\n",
       "      <td>-0.7</td>\n",
       "      <td>-0.2</td>\n",
       "      <td>0.0</td>\n",
       "      <td>14.2</td>\n",
       "      <td>15.1</td>\n",
       "      <td>14.7</td>\n",
       "      <td>16.8</td>\n",
       "    </tr>\n",
       "    <tr>\n",
       "      <th>2</th>\n",
       "      <td>20170501.0</td>\n",
       "      <td>-997.0</td>\n",
       "      <td>-1.3</td>\n",
       "      <td>-0.0</td>\n",
       "      <td>-0.0</td>\n",
       "      <td>-0.6</td>\n",
       "      <td>-0.7</td>\n",
       "      <td>0.1</td>\n",
       "      <td>-0.1</td>\n",
       "      <td>0.4</td>\n",
       "      <td>...</td>\n",
       "      <td>-0.4</td>\n",
       "      <td>0.3</td>\n",
       "      <td>0.0</td>\n",
       "      <td>-0.3</td>\n",
       "      <td>-0.1</td>\n",
       "      <td>0.0</td>\n",
       "      <td>14.2</td>\n",
       "      <td>15.1</td>\n",
       "      <td>14.7</td>\n",
       "      <td>16.8</td>\n",
       "    </tr>\n",
       "    <tr>\n",
       "      <th>3</th>\n",
       "      <td>20170501.0</td>\n",
       "      <td>-996.0</td>\n",
       "      <td>-1.4</td>\n",
       "      <td>-0.2</td>\n",
       "      <td>-0.0</td>\n",
       "      <td>-0.5</td>\n",
       "      <td>-0.6</td>\n",
       "      <td>0.1</td>\n",
       "      <td>-0.2</td>\n",
       "      <td>0.5</td>\n",
       "      <td>...</td>\n",
       "      <td>-0.3</td>\n",
       "      <td>-0.1</td>\n",
       "      <td>-0.1</td>\n",
       "      <td>-0.2</td>\n",
       "      <td>-0.2</td>\n",
       "      <td>0.0</td>\n",
       "      <td>14.2</td>\n",
       "      <td>15.1</td>\n",
       "      <td>14.7</td>\n",
       "      <td>16.8</td>\n",
       "    </tr>\n",
       "    <tr>\n",
       "      <th>4</th>\n",
       "      <td>20170501.0</td>\n",
       "      <td>-995.0</td>\n",
       "      <td>-1.4</td>\n",
       "      <td>-0.3</td>\n",
       "      <td>-0.1</td>\n",
       "      <td>-0.4</td>\n",
       "      <td>-0.6</td>\n",
       "      <td>0.1</td>\n",
       "      <td>-0.3</td>\n",
       "      <td>0.0</td>\n",
       "      <td>...</td>\n",
       "      <td>-0.1</td>\n",
       "      <td>0.1</td>\n",
       "      <td>0.3</td>\n",
       "      <td>0.2</td>\n",
       "      <td>0.3</td>\n",
       "      <td>0.0</td>\n",
       "      <td>14.2</td>\n",
       "      <td>15.1</td>\n",
       "      <td>14.7</td>\n",
       "      <td>16.8</td>\n",
       "    </tr>\n",
       "    <tr>\n",
       "      <th>...</th>\n",
       "      <td>...</td>\n",
       "      <td>...</td>\n",
       "      <td>...</td>\n",
       "      <td>...</td>\n",
       "      <td>...</td>\n",
       "      <td>...</td>\n",
       "      <td>...</td>\n",
       "      <td>...</td>\n",
       "      <td>...</td>\n",
       "      <td>...</td>\n",
       "      <td>...</td>\n",
       "      <td>...</td>\n",
       "      <td>...</td>\n",
       "      <td>...</td>\n",
       "      <td>...</td>\n",
       "      <td>...</td>\n",
       "      <td>...</td>\n",
       "      <td>...</td>\n",
       "      <td>...</td>\n",
       "      <td>...</td>\n",
       "      <td>...</td>\n",
       "    </tr>\n",
       "    <tr>\n",
       "      <th>1994</th>\n",
       "      <td>20170501.0</td>\n",
       "      <td>995.0</td>\n",
       "      <td>-1.1</td>\n",
       "      <td>-0.5</td>\n",
       "      <td>-0.2</td>\n",
       "      <td>-0.0</td>\n",
       "      <td>-0.3</td>\n",
       "      <td>-0.2</td>\n",
       "      <td>0.5</td>\n",
       "      <td>0.0</td>\n",
       "      <td>...</td>\n",
       "      <td>-0.0</td>\n",
       "      <td>-0.4</td>\n",
       "      <td>0.5</td>\n",
       "      <td>0.7</td>\n",
       "      <td>0.3</td>\n",
       "      <td>0.0</td>\n",
       "      <td>14.2</td>\n",
       "      <td>15.1</td>\n",
       "      <td>14.7</td>\n",
       "      <td>16.8</td>\n",
       "    </tr>\n",
       "    <tr>\n",
       "      <th>1995</th>\n",
       "      <td>20170501.0</td>\n",
       "      <td>996.0</td>\n",
       "      <td>-0.8</td>\n",
       "      <td>-0.3</td>\n",
       "      <td>-0.3</td>\n",
       "      <td>-0.1</td>\n",
       "      <td>-0.2</td>\n",
       "      <td>-0.3</td>\n",
       "      <td>0.0</td>\n",
       "      <td>0.2</td>\n",
       "      <td>...</td>\n",
       "      <td>0.3</td>\n",
       "      <td>-0.3</td>\n",
       "      <td>0.4</td>\n",
       "      <td>0.8</td>\n",
       "      <td>0.2</td>\n",
       "      <td>0.0</td>\n",
       "      <td>14.2</td>\n",
       "      <td>15.1</td>\n",
       "      <td>14.7</td>\n",
       "      <td>16.8</td>\n",
       "    </tr>\n",
       "    <tr>\n",
       "      <th>1996</th>\n",
       "      <td>20170501.0</td>\n",
       "      <td>997.0</td>\n",
       "      <td>0.2</td>\n",
       "      <td>0.2</td>\n",
       "      <td>-0.1</td>\n",
       "      <td>0.3</td>\n",
       "      <td>-0.2</td>\n",
       "      <td>0.1</td>\n",
       "      <td>-0.1</td>\n",
       "      <td>0.2</td>\n",
       "      <td>...</td>\n",
       "      <td>0.4</td>\n",
       "      <td>-0.4</td>\n",
       "      <td>0.3</td>\n",
       "      <td>0.6</td>\n",
       "      <td>0.0</td>\n",
       "      <td>0.0</td>\n",
       "      <td>14.2</td>\n",
       "      <td>15.1</td>\n",
       "      <td>14.7</td>\n",
       "      <td>16.8</td>\n",
       "    </tr>\n",
       "    <tr>\n",
       "      <th>1997</th>\n",
       "      <td>20170501.0</td>\n",
       "      <td>998.0</td>\n",
       "      <td>-0.7</td>\n",
       "      <td>0.2</td>\n",
       "      <td>-0.4</td>\n",
       "      <td>-0.1</td>\n",
       "      <td>-0.4</td>\n",
       "      <td>-0.1</td>\n",
       "      <td>-0.3</td>\n",
       "      <td>-0.0</td>\n",
       "      <td>...</td>\n",
       "      <td>0.1</td>\n",
       "      <td>-0.1</td>\n",
       "      <td>0.3</td>\n",
       "      <td>0.1</td>\n",
       "      <td>-0.1</td>\n",
       "      <td>0.0</td>\n",
       "      <td>14.2</td>\n",
       "      <td>15.1</td>\n",
       "      <td>14.7</td>\n",
       "      <td>16.8</td>\n",
       "    </tr>\n",
       "    <tr>\n",
       "      <th>1998</th>\n",
       "      <td>20170501.0</td>\n",
       "      <td>999.0</td>\n",
       "      <td>-0.7</td>\n",
       "      <td>0.2</td>\n",
       "      <td>-0.3</td>\n",
       "      <td>0.1</td>\n",
       "      <td>-0.7</td>\n",
       "      <td>-0.2</td>\n",
       "      <td>-0.3</td>\n",
       "      <td>-0.3</td>\n",
       "      <td>...</td>\n",
       "      <td>0.1</td>\n",
       "      <td>0.2</td>\n",
       "      <td>0.4</td>\n",
       "      <td>0.1</td>\n",
       "      <td>0.1</td>\n",
       "      <td>0.0</td>\n",
       "      <td>14.2</td>\n",
       "      <td>15.1</td>\n",
       "      <td>14.7</td>\n",
       "      <td>16.8</td>\n",
       "    </tr>\n",
       "  </tbody>\n",
       "</table>\n",
       "<p>1999 rows × 39 columns</p>\n",
       "</div>"
      ],
      "text/plain": [
       "            Date   Sample_Number  Sum of strains mid span  G19   G22   G25  \\\n",
       "0     20170501.0          -999.0                     -1.4 -0.1   0.3  -1.0   \n",
       "1     20170501.0          -998.0                     -1.8 -0.2   0.0  -0.9   \n",
       "2     20170501.0          -997.0                     -1.3 -0.0  -0.0  -0.6   \n",
       "3     20170501.0          -996.0                     -1.4 -0.2  -0.0  -0.5   \n",
       "4     20170501.0          -995.0                     -1.4 -0.3  -0.1  -0.4   \n",
       "...          ...             ...                      ...  ...   ...   ...   \n",
       "1994  20170501.0           995.0                     -1.1 -0.5  -0.2  -0.0   \n",
       "1995  20170501.0           996.0                     -0.8 -0.3  -0.3  -0.1   \n",
       "1996  20170501.0           997.0                      0.2  0.2  -0.1   0.3   \n",
       "1997  20170501.0           998.0                     -0.7  0.2  -0.4  -0.1   \n",
       "1998  20170501.0           999.0                     -0.7  0.2  -0.3   0.1   \n",
       "\n",
       "       G28    G7   G10   G13  ...    G5    G2    G4    G6   G31   G32   TC1  \\\n",
       "0     -0.7   0.1   0.3   0.8  ...  -0.6   0.0   0.2  -0.5  -0.2   0.0  14.2   \n",
       "1     -0.8   0.1   0.2   0.4  ...  -0.6   0.3  -0.1  -0.7  -0.2   0.0  14.2   \n",
       "2     -0.7   0.1  -0.1   0.4  ...  -0.4   0.3   0.0  -0.3  -0.1   0.0  14.2   \n",
       "3     -0.6   0.1  -0.2   0.5  ...  -0.3  -0.1  -0.1  -0.2  -0.2   0.0  14.2   \n",
       "4     -0.6   0.1  -0.3   0.0  ...  -0.1   0.1   0.3   0.2   0.3   0.0  14.2   \n",
       "...    ...   ...   ...   ...  ...   ...   ...   ...   ...   ...   ...   ...   \n",
       "1994  -0.3  -0.2   0.5   0.0  ...  -0.0  -0.4   0.5   0.7   0.3   0.0  14.2   \n",
       "1995  -0.2  -0.3   0.0   0.2  ...   0.3  -0.3   0.4   0.8   0.2   0.0  14.2   \n",
       "1996  -0.2   0.1  -0.1   0.2  ...   0.4  -0.4   0.3   0.6   0.0   0.0  14.2   \n",
       "1997  -0.4  -0.1  -0.3  -0.0  ...   0.1  -0.1   0.3   0.1  -0.1   0.0  14.2   \n",
       "1998  -0.7  -0.2  -0.3  -0.3  ...   0.1   0.2   0.4   0.1   0.1   0.0  14.2   \n",
       "\n",
       "       TC2   TC3   TC4  \n",
       "0     15.1  14.7  16.8  \n",
       "1     15.1  14.7  16.8  \n",
       "2     15.1  14.7  16.8  \n",
       "3     15.1  14.7  16.8  \n",
       "4     15.1  14.7  16.8  \n",
       "...    ...   ...   ...  \n",
       "1994  15.1  14.7  16.8  \n",
       "1995  15.1  14.7  16.8  \n",
       "1996  15.1  14.7  16.8  \n",
       "1997  15.1  14.7  16.8  \n",
       "1998  15.1  14.7  16.8  \n",
       "\n",
       "[1999 rows x 39 columns]"
      ]
     },
     "execution_count": 16,
     "metadata": {},
     "output_type": "execute_result"
    }
   ],
   "source": [
    "csv_file"
   ]
  },
  {
   "cell_type": "code",
   "execution_count": 17,
   "metadata": {},
   "outputs": [],
   "source": [
    "csv_file = csv_file[['Sum of strains mid span', ' TC1', ' TC2', ' TC3', ' TC4']]"
   ]
  },
  {
   "cell_type": "code",
   "execution_count": 18,
   "metadata": {},
   "outputs": [],
   "source": [
    "arr = torch.from_numpy(np.array(csv_file)).type(torch.float32)\n",
    "seq_embedder = nn.GRU(5, 128, 1)\n",
    "res = seq_embedder(arr)"
   ]
  },
  {
   "cell_type": "code",
   "execution_count": 19,
   "metadata": {},
   "outputs": [
    {
     "data": {
      "text/plain": [
       "tensor([[-0.0264,  0.0692, -0.0935,  ..., -0.9742,  0.0664, -0.2507],\n",
       "        [-0.0466,  0.1292, -0.1771,  ..., -0.9983,  0.1203, -0.4045],\n",
       "        [-0.0659,  0.1814, -0.2501,  ..., -0.9988,  0.1703, -0.4981],\n",
       "        ...,\n",
       "        [-0.8889,  0.7805, -0.6100,  ..., -0.9989,  0.9748, -0.6765],\n",
       "        [-0.8890,  0.7803, -0.6094,  ..., -0.9988,  0.9748, -0.6745],\n",
       "        [-0.8890,  0.7802, -0.6092,  ..., -0.9988,  0.9748, -0.6729]],\n",
       "       grad_fn=<SqueezeBackward1>)"
      ]
     },
     "execution_count": 19,
     "metadata": {},
     "output_type": "execute_result"
    }
   ],
   "source": [
    "res[0]"
   ]
  },
  {
   "cell_type": "code",
   "execution_count": 20,
   "metadata": {},
   "outputs": [
    {
     "data": {
      "text/plain": [
       "[<matplotlib.lines.Line2D at 0x2605f03fe80>]"
      ]
     },
     "execution_count": 20,
     "metadata": {},
     "output_type": "execute_result"
    },
    {
     "data": {
      "image/png": "[encoded data removed]",
      "text/plain": [
       "<Figure size 640x480 with 1 Axes>"
      ]
     },
     "metadata": {},
     "output_type": "display_data"
    }
   ],
   "source": [
    "plt.plot(res[0][4].detach().numpy())"
   ]
  },
  {
   "cell_type": "code",
   "execution_count": 21,
   "metadata": {},
   "outputs": [],
   "source": [
    "class TruckDataset(Dataset):\n",
    "    def __init__(self,\n",
    "                df,\n",
    "                transform=None,\n",
    "                shuffle_data=True,\n",
    "                use_rcnn=True):\n",
    "\n",
    "        self.df = df\n",
    "        self.transform = transform\n",
    "        self.use_rcnn = use_rcnn\n",
    "\n",
    "        if shuffle_data:\n",
    "            self.df = self.df.sample(frac=1).reset_index(drop=True)\n",
    "\n",
    "\n",
    "\n",
    "    def __len__(self) -> int:\n",
    "        return len(self.df)\n",
    "\n",
    "    def __getitem__(self, idx) -> tuple:\n",
    "        image = Image.open(self.df.iloc[idx, 0]).convert(\"RGB\")\n",
    "        label = self.df.iloc[idx, 2]\n",
    "        if self.use_rcnn:\n",
    "            image = extract_trucks(rcnn, image, self.transform)\n",
    "        else:\n",
    "            if self.transform:\n",
    "                image = self.transform(image)\n",
    "        \n",
    "        data = pd.read_csv(self.df.iloc[idx, 1])\n",
    "        data.columns = headers.columns\n",
    "        data = data[['Sum of strains mid span', ' TC1', ' TC2', ' TC3', ' TC4']]\n",
    "        data = torch.from_numpy(data.values)\n",
    "        data = data.reshape((-1))\n",
    "        return image, data, label"
   ]
  },
  {
   "cell_type": "code",
   "execution_count": 41,
   "metadata": {},
   "outputs": [],
   "source": [
    "tr_dt = TruckDataset(df, transform=data_transforms['train'], use_rcnn=False)\n",
    "ts_dt = TruckDataset(df, transform=data_transforms['other'], use_rcnn=False)\n",
    "\n",
    "\n",
    "dt_size = len(tr_dt)\n",
    "indices = list(range(dt_size))\n",
    "split_idx = int(SPLIT_PERCENT * dt_size)\n",
    "\n",
    "tr_indices, ts_indices = indices[:split_idx], indices[split_idx:]\n",
    "\n",
    "tr_sampler = SubsetRandomSampler(tr_indices)\n",
    "ts_sampler = SubsetRandomSampler(ts_indices)\n",
    "\n",
    "tr_loader = DataLoader(tr_dt, batch_size=BATCH_SIZE, sampler=tr_sampler)\n",
    "ts_loader = DataLoader(ts_dt, batch_size=BATCH_SIZE, sampler=ts_sampler)\n",
    "\n",
    "dataloaders = {\n",
    "    'train': tr_loader,\n",
    "    'validation': ts_loader\n",
    "}"
   ]
  },
  {
   "cell_type": "code",
   "execution_count": 23,
   "metadata": {},
   "outputs": [
    {
     "data": {
      "text/plain": [
       "(torch.Size([16, 3, 448, 448]), torch.Size([16, 9995]), torch.Size([16]))"
      ]
     },
     "execution_count": 23,
     "metadata": {},
     "output_type": "execute_result"
    }
   ],
   "source": [
    "X, y, z = next(iter(tr_loader))\n",
    "X.shape, y.shape, z.shape"
   ]
  },
  {
   "cell_type": "code",
   "execution_count": 42,
   "metadata": {},
   "outputs": [],
   "source": [
    "del tr_dt, ts_dt, tr_sampler, ts_sampler, tr_indices, ts_indices, tr_loader, ts_loader, indices, split_idx, dt_size"
   ]
  },
  {
   "cell_type": "code",
   "execution_count": 25,
   "metadata": {},
   "outputs": [],
   "source": [
    "class TrucksCNN(nn.Module):\n",
    "    def __init__(self, num_features):\n",
    "        \n",
    "        super().__init__()\n",
    "        \n",
    "        self.layer1 = nn.Sequential(\n",
    "            nn.Conv2d(num_features, 128, 3, padding=1),\n",
    "            nn.ReLU(),\n",
    "            nn.BatchNorm2d(128),\n",
    "            nn.MaxPool2d(4, 4),\n",
    "            nn.Dropout2d(0.1),\n",
    "            nn.Conv2d(128, 128, 3, padding=1),\n",
    "            nn.ReLU(),\n",
    "            nn.BatchNorm2d(128),\n",
    "            nn.MaxPool2d(2, 2),\n",
    "            nn.Dropout2d(0.1)\n",
    "        )\n",
    "\n",
    "        self.layer2 = nn.Sequential(\n",
    "            nn.Conv2d(128, 256, 3, padding=1),\n",
    "            nn.ReLU(),\n",
    "            nn.BatchNorm2d(256),\n",
    "            nn.MaxPool2d(2, 2),\n",
    "            nn.Dropout2d(0.1),\n",
    "            # nn.Conv2d(256, 256, 3, padding=1),\n",
    "            # nn.ReLU(),\n",
    "            # nn.BatchNorm2d(256),\n",
    "            # nn.MaxPool2d(2, 2),\n",
    "            nn.Dropout2d(0.1)\n",
    "        )\n",
    "        \n",
    "        self.layer3 = nn.Sequential(\n",
    "            nn.Conv2d(256, 512, 3, padding=1),\n",
    "            nn.ReLU(),\n",
    "            nn.BatchNorm2d(512),\n",
    "            nn.MaxPool2d(2, 2),\n",
    "            nn.Dropout2d(0.1),\n",
    "            # nn.Conv2d(512, 512, 3, padding=1),\n",
    "            # nn.ReLU(),\n",
    "            # nn.BatchNorm2d(512),\n",
    "            # nn.MaxPool2d(2, 2),\n",
    "            # nn.Dropout2d(0.1)\n",
    "        )\n",
    "        \n",
    "        \n",
    "        # self.fc = nn.Sequential(\n",
    "        #     nn.Flatten(),\n",
    "        #     nn.Linear(256 * 3 * 3, 256, True),\n",
    "        #     nn.BatchNorm1d(256),\n",
    "        #     nn.Dropout1d(0.1),\n",
    "        #     nn.Linear(256, 128, True),\n",
    "        #     nn.BatchNorm1d(128),\n",
    "        #     nn.Dropout1d(0.1),\n",
    "        #     nn.Linear(128, 7, True),\n",
    "        # )\n",
    "\n",
    "\n",
    "    \n",
    "    def forward(self, x):\n",
    "\n",
    "        # print(x.shape)\n",
    "        x = self.layer1(x)\n",
    "        # print(x.shape)\n",
    "        x = self.layer2(x)\n",
    "        # print(x.shape)\n",
    "        x = self.layer3(x)\n",
    "        # print(x.shape)\n",
    "\n",
    "        return x"
   ]
  },
  {
   "cell_type": "code",
   "execution_count": 26,
   "metadata": {},
   "outputs": [],
   "source": [
    "# cnn = TrucksCNN(3).to(device)\n",
    "# cnn(X)"
   ]
  },
  {
   "cell_type": "code",
   "execution_count": 43,
   "metadata": {},
   "outputs": [],
   "source": [
    "class AttentionLayer(nn.Module):\n",
    "    def __init__(self, dim):\n",
    "        super().__init__()\n",
    "\n",
    "        self.representation_dim = dim\n",
    "        self.fi_lin = nn.Sequential(\n",
    "            nn.Linear(self.representation_dim, self.representation_dim, bias=True),\n",
    "            nn.Linear(self.representation_dim, self.representation_dim, bias=True)\n",
    "        )\n",
    "        self.vi_lin = nn.Linear(self.representation_dim, self.representation_dim, bias=False)\n",
    "        self.vq_lin = nn.Linear(self.representation_dim, self.representation_dim, bias=True)\n",
    "        self.pi_lin = nn.Linear(self.representation_dim, 1, bias=True)\n",
    "\n",
    "\n",
    "    def forward(self, fi, vq):\n",
    "\n",
    "        # print('fi\\'s shape:', fi.shape)\n",
    "        fi = fi.view((fi.shape[0], -1, fi.shape[1]))\n",
    "        vi = F.tanh(self.fi_lin(fi))\n",
    "        # print('vi\\'s shape:', vi.shape)\n",
    "        vi2 = self.vi_lin(vi)\n",
    "        # print('vi2\\'s shape:', vi2.shape)\n",
    "        vq2 = self.vq_lin(vq)\n",
    "        vq2 = vq2.view((vq2.shape[0], 1, -1))\n",
    "        # print('vq2\\'s shape:', vq2.shape)\n",
    "        ha = F.tanh(vi2 + vq2)\n",
    "        # print('ha\\'s shape:', ha.shape)\n",
    "        pi = F.softmax(self.pi_lin(ha), dim=1)\n",
    "        # print('pi\\'s shape:', pi.shape)\n",
    "        v = torch.sum((pi * vi2), dim=1)\n",
    "        # print('v\\'s shape:', v.shape)\n",
    "        u = v + vq\n",
    "        # print('u\\'s shape:', u.shape)\n",
    "        return u"
   ]
  },
  {
   "cell_type": "code",
   "execution_count": 44,
   "metadata": {},
   "outputs": [],
   "source": [
    "class TruckModel(nn.Module):\n",
    "    def __init__(self,\n",
    "                input_representation_shape: int,\n",
    "                txt_embedd_dim: int,\n",
    "                num_classes: int,\n",
    "                num_lstm_layers: int=2,\n",
    "                ) -> None:\n",
    "        super().__init__()\n",
    "\n",
    "        self.txt_encoder = nn.GRU(txt_embedd_dim, input_representation_shape, num_lstm_layers, batch_first=True)\n",
    "\n",
    "        # self.img_encoder = TrucksCNN(3)\n",
    "        self.img_encoder = models.resnet18(weights='DEFAULT')\n",
    "        self.img_encoder = torch.nn.Sequential(OrderedDict([*(list(self.img_encoder.named_children())[:-2])]))\n",
    "        for param in self.img_encoder.parameters():\n",
    "            param.requires_grad = False\n",
    "        # self.img_encoder.layer4[1].conv2.weight.requires_grad = True\n",
    "        # self.img_encoder.layer4[1].bn2.weight.requires_grad = True\n",
    "        # self.img_encoder.layer4[1].bn2.bias.requires_grad = True\n",
    "\n",
    "        self.att1 = AttentionLayer(input_representation_shape)\n",
    "        self.att2 = AttentionLayer(input_representation_shape)\n",
    "        self.fc = nn.Linear(input_representation_shape, num_classes)\n",
    "\n",
    "\n",
    "    def forward(self, vi: torch.Tensor, vq: torch.Tensor) -> torch.Tensor:\n",
    "        q = self.txt_encoder(vq)[0]\n",
    "        # print(q.shape)\n",
    "        i = self.img_encoder(vi)\n",
    "        u = self.att1(i, q)\n",
    "        u = self.att2(i, u)\n",
    "        u = F.softmax(self.fc(u), dim=1)\n",
    "        return u"
   ]
  },
  {
   "cell_type": "code",
   "execution_count": 45,
   "metadata": {},
   "outputs": [],
   "source": [
    "def train_model(model, criterion, optimizer, num_epochs=3):\n",
    "    for epoch in range(num_epochs):\n",
    "        print('-' * 50)\n",
    "        print('Epoch {}/{}'.format(epoch+1, num_epochs))\n",
    "        print('-' * 10)\n",
    "\n",
    "        for phase in ['train', 'validation']:\n",
    "            if phase == 'train':\n",
    "                model.train()\n",
    "            else:\n",
    "                model.eval()\n",
    "\n",
    "            running_loss = 0.0\n",
    "            running_corrects = 0\n",
    "\n",
    "            with tqdm(dataloaders[phase], unit='batch', position=0, leave=True) as pbar:\n",
    "                for img, data, lbl in pbar:\n",
    "\n",
    "                    pbar.set_description(f\"Epoch {epoch+1}\")\n",
    "\n",
    "                    img = img.to(device)\n",
    "                    data = data.to(device).to(torch.float32)\n",
    "                    lbl = lbl.to(device)\n",
    "                    # print(img.dtype)\n",
    "                    # print(data.dtype)\n",
    "                    # print(lbl.dtype)\n",
    "                    outputs = model(img,  data)\n",
    "                    # print('--' * 35)\n",
    "                    # print('model output shape:', outputs.shape)\n",
    "                    # lbl_oh = F.one_hot(lbl, num_classes=num_classes).float()\n",
    "                    # print('labels shape:', lbl.shape)\n",
    "                    loss = criterion(outputs, F.one_hot(lbl, num_classes=num_classes).float())\n",
    "\n",
    "                    if phase == 'train':\n",
    "                        optimizer.zero_grad()\n",
    "                        loss.backward()\n",
    "                        optimizer.step()\n",
    "\n",
    "                    _, preds = (torch.max(outputs, 1))\n",
    "                    # preds = F.one_hot(preds, num_classes=num_classes).float()\n",
    "                    # print('--' * 35)\n",
    "                    # print('prediction shape:', preds.shape)\n",
    "                    running_loss += loss.item()\n",
    "                    running_corrects += torch.sum(preds == lbl.data)\n",
    "                    # print('acc:', running_corrects)\n",
    "                    # print()\n",
    "                    pbar.set_postfix(loss=loss.item() / BATCH_SIZE, accuracy=torch.sum(preds == lbl.data).item() / BATCH_SIZE)\n",
    "                    sleep(0.1)\n",
    "\n",
    "            epoch_loss = running_loss / len(dataloaders[phase])\n",
    "            epoch_acc = running_corrects.double() / len(dataloaders[phase])\n",
    "\n",
    "            print('{} loss: {:.4f}, acc: {:.4f}'.format(phase,\n",
    "                                                        epoch_loss,\n",
    "                                                        epoch_acc))\n",
    "    return model"
   ]
  },
  {
   "cell_type": "code",
   "execution_count": 46,
   "metadata": {},
   "outputs": [
    {
     "name": "stdout",
     "output_type": "stream",
     "text": [
      "--------------------------------------------------\n",
      "Epoch 1/3\n",
      "----------\n"
     ]
    },
    {
     "data": {
      "application/vnd.jupyter.widget-view+json": {
       "model_id": "57ea0b5832124dd089257542852e4472",
       "version_major": 2,
       "version_minor": 0
      },
      "text/plain": [
       "  0%|          | 0/5 [00:00<?, ?batch/s]"
      ]
     },
     "metadata": {},
     "output_type": "display_data"
    },
    {
     "name": "stdout",
     "output_type": "stream",
     "text": [
      "train loss: 1.8284, acc: 5.6000\n"
     ]
    },
    {
     "data": {
      "application/vnd.jupyter.widget-view+json": {
       "model_id": "2ccbfb9b79ed42f38f04b0a2501e8b5c",
       "version_major": 2,
       "version_minor": 0
      },
      "text/plain": [
       "  0%|          | 0/2 [00:00<?, ?batch/s]"
      ]
     },
     "metadata": {},
     "output_type": "display_data"
    },
    {
     "name": "stdout",
     "output_type": "stream",
     "text": [
      "validation loss: 1.6976, acc: 6.5000\n",
      "--------------------------------------------------\n",
      "Epoch 2/3\n",
      "----------\n"
     ]
    },
    {
     "data": {
      "application/vnd.jupyter.widget-view+json": {
       "model_id": "b9a537770aaf448da5a71cfb8d966976",
       "version_major": 2,
       "version_minor": 0
      },
      "text/plain": [
       "  0%|          | 0/5 [00:00<?, ?batch/s]"
      ]
     },
     "metadata": {},
     "output_type": "display_data"
    },
    {
     "name": "stdout",
     "output_type": "stream",
     "text": [
      "train loss: 1.7129, acc: 8.2000\n"
     ]
    },
    {
     "data": {
      "application/vnd.jupyter.widget-view+json": {
       "model_id": "e28aa8b7d248468ca60aa3626d96ab7a",
       "version_major": 2,
       "version_minor": 0
      },
      "text/plain": [
       "  0%|          | 0/2 [00:00<?, ?batch/s]"
      ]
     },
     "metadata": {},
     "output_type": "display_data"
    },
    {
     "name": "stdout",
     "output_type": "stream",
     "text": [
      "validation loss: 1.7948, acc: 6.5000\n",
      "--------------------------------------------------\n",
      "Epoch 3/3\n",
      "----------\n"
     ]
    },
    {
     "data": {
      "application/vnd.jupyter.widget-view+json": {
       "model_id": "e1b38f7424d04415b6a01ea98f7f4b7b",
       "version_major": 2,
       "version_minor": 0
      },
      "text/plain": [
       "  0%|          | 0/5 [00:00<?, ?batch/s]"
      ]
     },
     "metadata": {},
     "output_type": "display_data"
    },
    {
     "name": "stdout",
     "output_type": "stream",
     "text": [
      "train loss: 1.7129, acc: 8.2000\n"
     ]
    },
    {
     "data": {
      "application/vnd.jupyter.widget-view+json": {
       "model_id": "581f8fc4defa43c4ab902c78b7f4f4a6",
       "version_major": 2,
       "version_minor": 0
      },
      "text/plain": [
       "  0%|          | 0/2 [00:00<?, ?batch/s]"
      ]
     },
     "metadata": {},
     "output_type": "display_data"
    },
    {
     "name": "stdout",
     "output_type": "stream",
     "text": [
      "validation loss: 1.7462, acc: 6.5000\n"
     ]
    }
   ],
   "source": [
    "torch.manual_seed(42)\n",
    "model = TruckModel(input_representation_shape=512, txt_embedd_dim=9995, num_classes=num_classes).to(device)\n",
    "criterion = nn.CrossEntropyLoss()\n",
    "optimizer = torch.optim.Adam(params=model.parameters())\n",
    "\n",
    "model_trained = train_model(model, criterion, optimizer, num_epochs=3)"
   ]
  },
  {
   "cell_type": "code",
   "execution_count": 47,
   "metadata": {},
   "outputs": [
    {
     "data": {
      "application/vnd.jupyter.widget-view+json": {
       "model_id": "59a122a203d24661ad5601a471b4bf19",
       "version_major": 2,
       "version_minor": 0
      },
      "text/plain": [
       "  0%|          | 0/2 [00:00<?, ?batch/s]"
      ]
     },
     "metadata": {},
     "output_type": "display_data"
    },
    {
     "name": "stdout",
     "output_type": "stream",
     "text": [
      "F1-Score on validation set: 0.5034722222222222\n",
      "Accuracy on validation set: 0.5034722222222222\n"
     ]
    }
   ],
   "source": [
    "model_trained.eval()\n",
    "f1 = []\n",
    "acc = []\n",
    "\n",
    "with tqdm(dataloaders['validation'], unit='batch', position=0, leave=True) as pbar:\n",
    "    for X, y, z in pbar: \n",
    "        X = X.to(device)\n",
    "        y = y.to(device).to(torch.float32)\n",
    "        z = z.to(device)\n",
    "        outputs = model_trained(X, y)\n",
    "        _, preds = (torch.max(outputs, 1))\n",
    "        batch_f1_score = f1_score(np.array(z.cpu()), np.array(preds.cpu()), average='micro') \n",
    "        batch_acc = accuracy_score(np.array(z.cpu()), np.array(preds.cpu()))\n",
    "        f1.append(batch_f1_score)\n",
    "        acc.append(batch_acc)\n",
    "        pbar.set_postfix(F1_Score=batch_f1_score, acc=batch_acc)\n",
    "\n",
    "f1 = np.mean(np.array(f1))\n",
    "acc = np.mean(np.array(acc))\n",
    "\n",
    "print(f'F1-Score on validation set: {f1}')\n",
    "print(f'Accuracy on validation set: {acc}')"
   ]
  },
  {
   "cell_type": "code",
   "execution_count": 32,
   "metadata": {},
   "outputs": [],
   "source": [
    "# exmple_img_path = df.iloc[74][0]\n",
    "# print(exmple_img_path)\n",
    "# image = Image.open(exmple_img_path).convert('RGB')\n",
    "\n",
    "# extract_trucks(rcnn, image).shape\n",
    "# cv.imshow('image', extract_trucks(rcnn, image))\n",
    "# cv.waitKey(0)\n",
    "# cv.destroyAllWindows()"
   ]
  },
  {
   "cell_type": "code",
   "execution_count": 33,
   "metadata": {},
   "outputs": [],
   "source": [
    "# img_transformed = data_transforms['rcnn'](image)"
   ]
  },
  {
   "cell_type": "code",
   "execution_count": 34,
   "metadata": {},
   "outputs": [],
   "source": [
    "# img_transformed.shape"
   ]
  },
  {
   "cell_type": "code",
   "execution_count": 35,
   "metadata": {},
   "outputs": [],
   "source": [
    "# c, w, h = img_transformed.shape\n",
    "\n",
    "# res = rcnn(img_transformed.reshape((1, c, w, h)))"
   ]
  },
  {
   "cell_type": "code",
   "execution_count": 36,
   "metadata": {},
   "outputs": [],
   "source": [
    "# res[0]"
   ]
  },
  {
   "cell_type": "code",
   "execution_count": null,
   "metadata": {},
   "outputs": [],
   "source": []
  }
 ],
 "metadata": {
  "kernelspec": {
   "display_name": "Python 3",
   "language": "python",
   "name": "python3"
  },
  "language_info": {
   "codemirror_mode": {
    "name": "ipython",
    "version": 3
   },
   "file_extension": ".py",
   "mimetype": "text/x-python",
   "name": "python",
   "nbconvert_exporter": "python",
   "pygments_lexer": "ipython3",
   "version": "3.9.12"
  }
 },
 "nbformat": 4,
 "nbformat_minor": 2
}
